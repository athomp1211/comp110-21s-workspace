{
 "metadata": {
  "language_info": {
   "codemirror_mode": {
    "name": "ipython",
    "version": 3
   },
   "file_extension": ".py",
   "mimetype": "text/x-python",
   "name": "python",
   "nbconvert_exporter": "python",
   "pygments_lexer": "ipython3",
   "version": "3.9.1-final"
  },
  "orig_nbformat": 2,
  "kernelspec": {
   "name": "python391jvsc74a57bd0570b89c25be3360c13b3d67536ad219e13bfb89876b9f6ce6a962b2cdecb05f4",
   "display_name": "Python 3.9.1 64-bit"
  },
  "metadata": {
   "interpreter": {
    "hash": "570b89c25be3360c13b3d67536ad219e13bfb89876b9f6ce6a962b2cdecb05f4"
   }
  }
 },
 "nbformat": 4,
 "nbformat_minor": 2,
 "cells": [
  {
   "source": [
    "# Hypothesis: I believe seniors are more likely to complete lessons during the registered course time than first years."
   ],
   "cell_type": "markdown",
   "metadata": {}
  },
  {
   "cell_type": "code",
   "execution_count": null,
   "metadata": {},
   "outputs": [],
   "source": [
    "__author__ = \"730318766\""
   ]
  },
  {
   "source": [
    "## 1st I will read in the csv and convert it into a column-oriented data table."
   ],
   "cell_type": "markdown",
   "metadata": {}
  },
  {
   "cell_type": "code",
   "execution_count": 2,
   "metadata": {},
   "outputs": [],
   "source": [
    "%reload_ext autoreload\n",
    "%autoreload 2"
   ]
  },
  {
   "cell_type": "code",
   "execution_count": 4,
   "metadata": {},
   "outputs": [],
   "source": [
    "from data_utils import read_csv_rows, columnar\n",
    "\n",
    "data_rows: list[dict[str, str]] = read_csv_rows(\"../../data/survey.csv\")\n",
    "columns: dict[str, list[str]] = columnar(data_rows)"
   ]
  },
  {
   "source": [
    "## Next, I will select the year column and show the first 5 rows of data."
   ],
   "cell_type": "markdown",
   "metadata": {}
  },
  {
   "cell_type": "code",
   "execution_count": 12,
   "metadata": {},
   "outputs": [
    {
     "output_type": "execute_result",
     "data": {
      "text/plain": [
       "{'year': ['21', '23', '23', '23', '24']}"
      ]
     },
     "metadata": {},
     "execution_count": 12
    }
   ],
   "source": [
    "from data_utils import select, head\n",
    "\n",
    "subset: dict[str, list[str]] = select(columns, [\"year\"])\n",
    "head(subset, 5)"
   ]
  },
  {
   "source": [
    "## Next, I will filter the column data to include only data that corresponds to Seniors and First-Years."
   ],
   "cell_type": "markdown",
   "metadata": {}
  },
  {
   "cell_type": "code",
   "execution_count": 22,
   "metadata": {},
   "outputs": [],
   "source": [
    "def mask(col: list[str], threshold: int) -> list[bool]:\n",
    "    filtered: list[bool] = []\n",
    "    for value in col:\n",
    "        filtered.append(int(value) == threshold)\n",
    "    return filtered\n",
    "\n",
    "s_subset: list[bool] = mask(subset[\"year\"], 21)\n",
    "f_subset: list[bool] = mask(subset[\"year\"], 24)"
   ]
  },
  {
   "source": [
    "## Then I'll create lists of the frequencies at which seniors and first-years complete each lecture's lessons during the hours of the day registered for the course."
   ],
   "cell_type": "markdown",
   "metadata": {}
  },
  {
   "cell_type": "code",
   "execution_count": 29,
   "metadata": {},
   "outputs": [],
   "source": [
    "def masked(col: list[str], mask: list[bool]) -> list[str]:\n",
    "    result: list[str] = []\n",
    "    for i in range(len(mask)):\n",
    "        if mask[i]:\n",
    "            result.append(col[i])\n",
    "    return result\n",
    "\n",
    "s_complete_lesson: list[str] = masked(columns[\"lesson_time\"], s_subset)\n",
    "f_complete_lesson: list[str] = masked(columns[\"lesson_time\"], f_subset)"
   ]
  },
  {
   "source": [
    "## Now I will count up how many times Seniors and First-Years selected each frequency of completing a lesson during lecture time."
   ],
   "cell_type": "markdown",
   "metadata": {}
  },
  {
   "cell_type": "code",
   "execution_count": 31,
   "metadata": {},
   "outputs": [
    {
     "output_type": "stream",
     "name": "stdout",
     "text": [
      "Senior Counts: {'1': 9, '6': 15, '7': 5, '4': 4, '5': 8, '2': 4, '3': 1}\nFirst-Year Counts: {'4': 21, '6': 57, '7': 46, '5': 47, '1': 18, '3': 22, '2': 18}\n"
     ]
    }
   ],
   "source": [
    "from data_utils import count\n",
    "\n",
    "s_counts: dict[str, int] = count(s_complete_lesson)\n",
    "f_counts: dict[str, int] = count(f_complete_lesson)\n",
    "\n",
    "print(f\"Senior Counts: {s_counts}\")\n",
    "print(f\"First-Year Counts: {f_counts}\")"
   ]
  },
  {
   "source": [
    "## Next I will calculate the most popular frequency."
   ],
   "cell_type": "markdown",
   "metadata": {}
  },
  {
   "cell_type": "code",
   "execution_count": null,
   "metadata": {},
   "outputs": [],
   "source": [
    "def mode(counts: dict[str, int]) -> int:\n",
    "    for key in counts:\n",
    "        "
   ]
  },
  {
   "source": [
    "## Then, I'll compute the average frequencies."
   ],
   "cell_type": "markdown",
   "metadata": {}
  },
  {
   "cell_type": "code",
   "execution_count": 39,
   "metadata": {},
   "outputs": [
    {
     "output_type": "stream",
     "name": "stdout",
     "text": [
      "Seniors, on average, rated themselves a 4.369565217391305 on how frequently they complete their lessons during their registered lecture time. First-Years, on the other hand, rated themselves a 4.816593886462882, on average.(Scale: 1-7 with 1 being Never and 7 being Always)\n"
     ]
    }
   ],
   "source": [
    "def average(counts: dict[str, int]) -> float:\n",
    "    multiplied: list[int] = []\n",
    "    total: list[int] = []\n",
    "    for key in counts:\n",
    "        multiplied.append(int(key) * counts[key])\n",
    "        total.append(counts[key])\n",
    "    return sum(multiplied) / sum(total)\n",
    "\n",
    "s_average: float = average(s_counts)\n",
    "f_average: float = average(f_counts)\n",
    "\n",
    "print(f\"Seniors, on average, rated themselves a {s_average} on how frequently they complete their lessons during their registered lecture time. First-Years, on the other hand, rated themselves a {f_average}, on average.(Scale: 1-7 with 1 being Never and 7 being Always)\")"
   ]
  },
  {
   "source": [
    "## Conclusion"
   ],
   "cell_type": "markdown",
   "metadata": {}
  },
  {
   "source": [
    "### In, conclusion"
   ],
   "cell_type": "markdown",
   "metadata": {}
  }
 ]
}